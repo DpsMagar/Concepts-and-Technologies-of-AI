{
  "nbformat": 4,
  "nbformat_minor": 0,
  "metadata": {
    "colab": {
      "provenance": []
    },
    "kernelspec": {
      "name": "python3",
      "display_name": "Python 3"
    },
    "language_info": {
      "name": "python"
    }
  },
  "cells": [
    {
      "cell_type": "markdown",
      "source": [
        "Importing Numpy:"
      ],
      "metadata": {
        "id": "R0_Cuw4BCKhQ"
      }
    },
    {
      "cell_type": "code",
      "source": [
        "import numpy as np\n",
        "# Create and display zero, one, and n-dimensional arrays\n",
        "zero_dim_array = np.array(5)\n",
        "one_dim_array = np.array([1, 2, 3])\n",
        "n_dim_array = np.array([[1, 2], [3, 4]])\n",
        "for arr in [zero_dim_array, one_dim_array, n_dim_array]:\n",
        "  print(f\"Array:\\n{arr}\\nDimension: {arr.ndim}\\nData type: {arr.dtype}\\n\")"
      ],
      "metadata": {
        "colab": {
          "base_uri": "https://localhost:8080/"
        },
        "id": "TYVAeC7aCMYT",
        "outputId": "c38e62e8-c840-4be2-a4a2-8c34cd26cba8"
      },
      "execution_count": 2,
      "outputs": [
        {
          "output_type": "stream",
          "name": "stdout",
          "text": [
            "Array:\n",
            "5\n",
            "Dimension: 0\n",
            "Data type: int64\n",
            "\n",
            "Array:\n",
            "[1 2 3]\n",
            "Dimension: 1\n",
            "Data type: int64\n",
            "\n",
            "Array:\n",
            "[[1 2]\n",
            " [3 4]]\n",
            "Dimension: 2\n",
            "Data type: int64\n",
            "\n"
          ]
        }
      ]
    },
    {
      "cell_type": "markdown",
      "source": [
        "Array Dimensions: Shape and Resahpe of Array:"
      ],
      "metadata": {
        "id": "rv8IPQN4EE4q"
      }
    },
    {
      "cell_type": "code",
      "source": [
        "import numpy as np\n",
        "# Create arrays of different dimensions\n",
        "array_0d = np.array(5)\n",
        "array_1d = np.array([1, 2, 3, 4, 5])\n",
        "array_2d = np.array([[1, 2, 3], [4, 5, 6]])\n",
        "array_3d = np.array([[[1, 2], [3, 4]], [[5, 6], [7, 8]]])\n",
        "# Print arrays with shapes\n",
        "for i, arr in enumerate([array_0d, array_1d, array_2d, array_3d]):\n",
        "  print(f\"{i}D Array:\\n{arr}\\nShape: {arr.shape}\\n\")"
      ],
      "metadata": {
        "colab": {
          "base_uri": "https://localhost:8080/"
        },
        "id": "Gb5tnFgNEI8u",
        "outputId": "42bb8461-a763-462b-ce9d-7af8e3233515"
      },
      "execution_count": 3,
      "outputs": [
        {
          "output_type": "stream",
          "name": "stdout",
          "text": [
            "0D Array:\n",
            "5\n",
            "Shape: ()\n",
            "\n",
            "1D Array:\n",
            "[1 2 3 4 5]\n",
            "Shape: (5,)\n",
            "\n",
            "2D Array:\n",
            "[[1 2 3]\n",
            " [4 5 6]]\n",
            "Shape: (2, 3)\n",
            "\n",
            "3D Array:\n",
            "[[[1 2]\n",
            "  [3 4]]\n",
            "\n",
            " [[5 6]\n",
            "  [7 8]]]\n",
            "Shape: (2, 2, 2)\n",
            "\n"
          ]
        }
      ]
    },
    {
      "cell_type": "code",
      "source": [
        "import numpy as np\n",
        "array = np.array([[1, 2, 3], [4, 5, 6]]) # Shape (2, 3)\n",
        "reshaped_array = array.reshape(3, 2) # Reshape to (3, 2), keeping 6 elements\n",
        "print(\"Original Shape:\", array.shape, \"\\nReshaped Shape:\", reshaped_array.shape)"
      ],
      "metadata": {
        "colab": {
          "base_uri": "https://localhost:8080/"
        },
        "id": "1zruBYJcHXkN",
        "outputId": "b571b66a-6d15-4c74-fba7-0d2f26b3c2fc"
      },
      "execution_count": 4,
      "outputs": [
        {
          "output_type": "stream",
          "name": "stdout",
          "text": [
            "Original Shape: (2, 3) \n",
            "Reshaped Shape: (3, 2)\n"
          ]
        }
      ]
    },
    {
      "cell_type": "markdown",
      "source": [
        "Array Creation:\n",
        "1. Using In - Built Function:"
      ],
      "metadata": {
        "id": "MemlvdW_HjJL"
      }
    },
    {
      "cell_type": "code",
      "source": [
        "import numpy as np\n",
        "a = np.arange(1, 10)\n",
        "print(a)\n",
        "x = range(1, 10)\n",
        "print(x) # x is an iterator\n",
        "print(list(x))\n",
        "# further arange examples:\n",
        "x = np.arange(10.4)\n",
        "print(x)\n",
        "x = np.arange(0.5, 10.4, 0.8)\n",
        "print(x)"
      ],
      "metadata": {
        "colab": {
          "base_uri": "https://localhost:8080/"
        },
        "id": "Z8GFHzajHmy9",
        "outputId": "9804f459-b0d2-4262-bed0-f40a1048b6d7"
      },
      "execution_count": 5,
      "outputs": [
        {
          "output_type": "stream",
          "name": "stdout",
          "text": [
            "[1 2 3 4 5 6 7 8 9]\n",
            "range(1, 10)\n",
            "[1, 2, 3, 4, 5, 6, 7, 8, 9]\n",
            "[ 0.  1.  2.  3.  4.  5.  6.  7.  8.  9. 10.]\n",
            "[ 0.5  1.3  2.1  2.9  3.7  4.5  5.3  6.1  6.9  7.7  8.5  9.3 10.1]\n"
          ]
        }
      ]
    },
    {
      "cell_type": "code",
      "source": [
        "import numpy as np\n",
        "# 50 values between 1 and 10:\n",
        "print(np.linspace(1, 10))\n",
        "# 7 values between 1 and 10:\n",
        "print(np.linspace(1, 10, 7))\n",
        "# excluding the endpoint:\n",
        "print(np.linspace(1, 10, 7, endpoint=False))"
      ],
      "metadata": {
        "colab": {
          "base_uri": "https://localhost:8080/"
        },
        "id": "gj9aSyI8ImUB",
        "outputId": "666b132c-7326-4c51-ab36-1d5f3cd78bb7"
      },
      "execution_count": 6,
      "outputs": [
        {
          "output_type": "stream",
          "name": "stdout",
          "text": [
            "[ 1.          1.18367347  1.36734694  1.55102041  1.73469388  1.91836735\n",
            "  2.10204082  2.28571429  2.46938776  2.65306122  2.83673469  3.02040816\n",
            "  3.20408163  3.3877551   3.57142857  3.75510204  3.93877551  4.12244898\n",
            "  4.30612245  4.48979592  4.67346939  4.85714286  5.04081633  5.2244898\n",
            "  5.40816327  5.59183673  5.7755102   5.95918367  6.14285714  6.32653061\n",
            "  6.51020408  6.69387755  6.87755102  7.06122449  7.24489796  7.42857143\n",
            "  7.6122449   7.79591837  7.97959184  8.16326531  8.34693878  8.53061224\n",
            "  8.71428571  8.89795918  9.08163265  9.26530612  9.44897959  9.63265306\n",
            "  9.81632653 10.        ]\n",
            "[ 1.   2.5  4.   5.5  7.   8.5 10. ]\n",
            "[1.         2.28571429 3.57142857 4.85714286 6.14285714 7.42857143\n",
            " 8.71428571]\n"
          ]
        }
      ]
    },
    {
      "cell_type": "markdown",
      "source": [
        "Initializing Arrays with Ones, Zeros and Empty:"
      ],
      "metadata": {
        "id": "rqw7O6l2JZ7x"
      }
    },
    {
      "cell_type": "code",
      "source": [
        "import numpy as np\n",
        "# Create arrays of specified shapes\n",
        "ones_array = np.ones((2, 3)) # Shape: (2, 3)\n",
        "zeros_array = np.zeros((3, 2)) # Shape: (3, 2)\n",
        "empty_array = np.empty((2, 2)) # Shape: (2, 2)\n",
        "identity_matrix = np.eye(3) # Shape: (3, 3)\n",
        "print(ones_array, zeros_array, empty_array, identity_matrix, sep='\\n\\n')"
      ],
      "metadata": {
        "colab": {
          "base_uri": "https://localhost:8080/"
        },
        "id": "t8Inn-xDJawC",
        "outputId": "5efee495-2a0a-4756-a835-8763182f3788"
      },
      "execution_count": 9,
      "outputs": [
        {
          "output_type": "stream",
          "name": "stdout",
          "text": [
            "[[1. 1. 1.]\n",
            " [1. 1. 1.]]\n",
            "\n",
            "[[0. 0.]\n",
            " [0. 0.]\n",
            " [0. 0.]]\n",
            "\n",
            "[[5.05479257e-310 0.00000000e+000]\n",
            " [6.70943124e-310 6.70943124e-310]]\n",
            "\n",
            "[[1. 0. 0.]\n",
            " [0. 1. 0.]\n",
            " [0. 0. 1.]]\n"
          ]
        }
      ]
    },
    {
      "cell_type": "markdown",
      "source": [
        "By Manipulating Existing Array:\n",
        "3.1 Using np.array:"
      ],
      "metadata": {
        "id": "ZW2tQ1VvJ4sP"
      }
    },
    {
      "cell_type": "code",
      "source": [
        "import numpy as np\n",
        "array_from_list = np.array([1, 2, 3]) # [1 2 3]\n",
        "array_from_tuple = np.array((4, 5, 6)) # [4 5 6]\n",
        "array_from_nested_list = np.array([[1, 2, 3], [4, 5, 6]]) # [[1 2 3] [4 5 6]]\n",
        "print(array_from_list, array_from_tuple, array_from_nested_list, sep='\\n')"
      ],
      "metadata": {
        "colab": {
          "base_uri": "https://localhost:8080/"
        },
        "id": "Sx7yBGXaJ5Tn",
        "outputId": "a30e48bf-a08a-4d00-f0b5-67ff2f18d0b3"
      },
      "execution_count": 10,
      "outputs": [
        {
          "output_type": "stream",
          "name": "stdout",
          "text": [
            "[1 2 3]\n",
            "[4 5 6]\n",
            "[[1 2 3]\n",
            " [4 5 6]]\n"
          ]
        }
      ]
    },
    {
      "cell_type": "markdown",
      "source": [
        "Using shape of an existing array:"
      ],
      "metadata": {
        "id": "DiBD6Pq_KlGo"
      }
    },
    {
      "cell_type": "code",
      "source": [
        "import numpy as np\n",
        "# Existing Array of Shape:(2,3)\n",
        "arr = np.array([[1, 2, 3], [4, 5, 6]])\n",
        "# Creating Array with Shape of existing array:\n",
        "zeros, ones, empty = np.zeros(arr.shape), np.ones(arr.shape), np.empty(arr.shape) # Shape: (2,3)\n",
        "print(arr, zeros, ones, empty, sep='\\n')"
      ],
      "metadata": {
        "colab": {
          "base_uri": "https://localhost:8080/"
        },
        "id": "3PZ7-PIyKmNs",
        "outputId": "336f8eed-6fdd-418e-bf1d-322459d608ee"
      },
      "execution_count": 12,
      "outputs": [
        {
          "output_type": "stream",
          "name": "stdout",
          "text": [
            "[[1 2 3]\n",
            " [4 5 6]]\n",
            "[[0. 0. 0.]\n",
            " [0. 0. 0.]]\n",
            "[[1. 1. 1.]\n",
            " [1. 1. 1.]]\n",
            "[[5.05479161e-310 0.00000000e+000 6.70945226e-310]\n",
            " [6.70945226e-310 6.70945226e-310 6.70943112e-310]]\n"
          ]
        }
      ]
    },
    {
      "cell_type": "markdown",
      "source": [
        "3.3 With Math, Copying or Slicing and Array:"
      ],
      "metadata": {
        "id": "p6PUiWXJLHwy"
      }
    },
    {
      "cell_type": "code",
      "source": [
        "import numpy as np\n",
        "array = np.array([1, 2, 3])\n",
        "# Multiplies each element by 2, result: [2, 4, 6]\n",
        "new_array = array * 2\n",
        "# Creates a new array with the same elements\n",
        "copied_array = np.copy(array)\n",
        "# Slices elements from index 1 to 3, result:[2]\n",
        "sliced_array = array[1:2]"
      ],
      "metadata": {
        "id": "2RatknFaLIWL"
      },
      "execution_count": 18,
      "outputs": []
    },
    {
      "cell_type": "code",
      "source": [
        "import numpy as np\n",
        "arr1 = np.array([[1, 2], [3, 4]]) # Shape: (2, 2)\n",
        "arr2 = np.array([[5, 6], [7, 8]]) # Shape: (2, 2)\n",
        "concat_axis0 = np.concatenate((arr1, arr2), axis=0)\n",
        "# Concatenate along axis 0 (vertical) Shape: (4, 2)\n",
        "concat_axis1 = np.concatenate((arr1, arr2), axis=1)\n",
        "# Concatenate along axis 1 (horizontal) Shape: (2, 4)\n",
        "print(concat_axis0, concat_axis1, sep='\\n')"
      ],
      "metadata": {
        "colab": {
          "base_uri": "https://localhost:8080/"
        },
        "id": "-7u-NVWzLb0a",
        "outputId": "0f4ffa7f-0a11-4a2c-c0d1-fbc61ecd6c73"
      },
      "execution_count": 15,
      "outputs": [
        {
          "output_type": "stream",
          "name": "stdout",
          "text": [
            "[[1 2]\n",
            " [3 4]\n",
            " [5 6]\n",
            " [7 8]]\n",
            "[[1 2 5 6]\n",
            " [3 4 7 8]]\n"
          ]
        }
      ]
    },
    {
      "cell_type": "markdown",
      "source": [
        "Array: Indexing and Slicing:"
      ],
      "metadata": {
        "id": "P2y8phLxLtyc"
      }
    },
    {
      "cell_type": "code",
      "source": [
        "import numpy as np\n",
        "# Arrays\n",
        "arr1d = np.array([0, 1, 2, 3, 4, 5])\n",
        "arr2d = np.array([[0, 1, 2], [3, 4, 5], [6, 7, 8]])\n",
        "arr3d = np.array([[[0, 1], [2, 3]], [[4, 5], [6, 7]], [[8, 9], [10, 11]]])\n",
        "# Slicing examples\n",
        "print(\"Basic:\", arr1d[1:4], arr2d[1:3, 0:2], arr3d[1:2, 0:2, 1:2])\n",
        "# Output Basic: arr1d:[1 2 3] arr2d:[[3 4] [6 7]] arr3d:[[[5] [7]]]\n",
        "print(\"Step:\", arr1d[1:5:2], arr2d[::2, 1::2], arr3d[::2, ::2, 1::2])\n",
        "# Output: Step: [1 3] [[1] [7]] [[[1] [9]]]"
      ],
      "metadata": {
        "colab": {
          "base_uri": "https://localhost:8080/"
        },
        "id": "Ou3pUcV4LuUj",
        "outputId": "378c70ea-d26b-4a8a-a982-fc92b8afdce1"
      },
      "execution_count": 16,
      "outputs": [
        {
          "output_type": "stream",
          "name": "stdout",
          "text": [
            "Basic: [1 2 3] [[3 4]\n",
            " [6 7]] [[[5]\n",
            "  [7]]]\n",
            "Step: [1 3] [[1]\n",
            " [7]] [[[1]]\n",
            "\n",
            " [[9]]]\n"
          ]
        }
      ]
    },
    {
      "cell_type": "markdown",
      "source": [
        "Array Mathematics:\n",
        "1. Elementary Mathematical Operation with universal functions."
      ],
      "metadata": {
        "id": "UCklU7nuMHup"
      }
    },
    {
      "cell_type": "code",
      "source": [
        "import numpy as np\n",
        "arr1 = np.array([1, 2, 3])\n",
        "arr2 = np.array([4, 5, 6])\n",
        "print(\"Add:\", np.add(arr1, arr2)) # Output Add: [5 7 9]\n",
        "print(\"Subtract:\", np.subtract(arr1, arr2))\n",
        "# Output Subtract: [-3 -3 -3]\n",
        "print(\"Divide:\", np.divide(arr1, arr2))\n",
        "# Output Divide: [0.25 0.4 0.5 ]\n",
        "print(\"Multiply:\", np.multiply(arr1, arr2))\n",
        "# Output Multiply: [ 4 10 18]\n",
        "print(\"Power:\", np.power(arr1, arr2))\n",
        "# Output Power: [ 1 32 729]\n",
        "print(\"Exp:\", np.exp(arr1))\n",
        "# Output Exp: [ 2.71828183 7.3890561 20.08553692]"
      ],
      "metadata": {
        "id": "YJ2GRmoBMSqX"
      },
      "execution_count": null,
      "outputs": []
    },
    {
      "cell_type": "markdown",
      "source": [
        "2. Matrix Multiplications."
      ],
      "metadata": {
        "id": "944sEGSqMe--"
      }
    },
    {
      "cell_type": "code",
      "source": [
        "import numpy as np\n",
        "# Define two matrices\n",
        "A = np.array([[1, 2, 3], [4, 5, 6]])\n",
        "B = np.array([[7, 8], [9, 10], [11, 12]])\n",
        "# Matrix multiplication using np.dot\n",
        "result_dot = np.dot(A, B)\n",
        "print(\"Result with np.dot:\\n\", result_dot) # Output shape: (2, 2)"
      ],
      "metadata": {
        "colab": {
          "base_uri": "https://localhost:8080/"
        },
        "id": "IvLTvR1gMfl1",
        "outputId": "02395825-44e7-4e6b-e5d8-9f4f1165d3a9"
      },
      "execution_count": 19,
      "outputs": [
        {
          "output_type": "stream",
          "name": "stdout",
          "text": [
            "Result with np.dot:\n",
            " [[ 58  64]\n",
            " [139 154]]\n"
          ]
        }
      ]
    },
    {
      "cell_type": "code",
      "source": [
        "import numpy as np\n",
        "# Define two matrices\n",
        "A = np.array([[1, 2, 3], [4, 5, 6]])\n",
        "B = np.array([[7, 8], [9, 10], [11, 12]])\n",
        "# Matrix multiplication using @ operator\n",
        "result_at = A @ B\n",
        "print(\"Result with @ operator:\\n\", result_at) # Output shape: (2, 2)\n",
        "# Matrix multiplication using np.matmul\n",
        "result_matmul = np.matmul(A, B)\n",
        "print(\"Result with np.matmul:\\n\", result_matmul) # Output shape: (2, 2)"
      ],
      "metadata": {
        "colab": {
          "base_uri": "https://localhost:8080/"
        },
        "id": "pvDQVWjhN0sB",
        "outputId": "4f40dc9b-6357-4e46-9877-8e0153863ce0"
      },
      "execution_count": 20,
      "outputs": [
        {
          "output_type": "stream",
          "name": "stdout",
          "text": [
            "Result with @ operator:\n",
            " [[ 58  64]\n",
            " [139 154]]\n",
            "Result with np.matmul:\n",
            " [[ 58  64]\n",
            " [139 154]]\n"
          ]
        }
      ]
    },
    {
      "cell_type": "markdown",
      "source": [
        "Linear Algebra with Numpy - np.linalg:"
      ],
      "metadata": {
        "id": "m3gK34v9OAZ5"
      }
    },
    {
      "cell_type": "code",
      "source": [
        "import numpy as np\n",
        "A = np.array([[1, 2], [3, 4]])\n",
        "B = np.array([5, 6])\n",
        "print(\"Inverse:\\n\", np.linalg.inv(A))\n",
        "# Output: Inverse: [[-2. 1. ], [ 1.5 -0.5]]\n",
        "print(\"Determinant:\", np.linalg.det(A))\n",
        "# Output: Determinant: -2.0\n",
        "print(\"Frobenius Norm:\", np.linalg.norm(A, 'fro'))\n",
        "# Output: Frobenius Norm: 5.4772\n",
        "print(\"2-Norm (Euclidean):\", np.linalg.norm(A))\n",
        "# Outptut: 2-Norm(Euclidean): 5.4772\n",
        "print(\"Solution x:\", np.linalg.solve(A, B))\n",
        "#Output: Solution x: [-4. 4.5]"
      ],
      "metadata": {
        "colab": {
          "base_uri": "https://localhost:8080/"
        },
        "id": "-kYLfPv1OA-j",
        "outputId": "0912be92-e298-4134-e827-8fd5b0d8d802"
      },
      "execution_count": 22,
      "outputs": [
        {
          "output_type": "stream",
          "name": "stdout",
          "text": [
            "Inverse:\n",
            " [[-2.   1. ]\n",
            " [ 1.5 -0.5]]\n",
            "Determinant: -2.0000000000000004\n",
            "Frobenius Norm: 5.477225575051661\n",
            "2-Norm (Euclidean): 5.477225575051661\n",
            "Solution x: [-4.   4.5]\n"
          ]
        }
      ]
    }
  ]
}